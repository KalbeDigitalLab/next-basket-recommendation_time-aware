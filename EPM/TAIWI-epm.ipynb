{
 "cells": [
  {
   "cell_type": "code",
   "execution_count": 3,
   "metadata": {
    "colab": {
     "base_uri": "https://localhost:8080/"
    },
    "id": "jX1Pv2zkbmuE",
    "outputId": "66ac1e46-d5c1-4db1-a072-d7387a9dd85a"
   },
   "outputs": [
    {
     "name": "stderr",
     "output_type": "stream",
     "text": [
      "fatal: destination path 'nbr-time_aware_item_weighting' already exists and is not an empty directory.\n"
     ]
    }
   ],
   "source": [
    "!git clone https://github.com/adhiiisetiawan/nbr-time_aware_item_weighting"
   ]
  },
  {
   "cell_type": "code",
   "execution_count": 1,
   "metadata": {
    "colab": {
     "base_uri": "https://localhost:8080/"
    },
    "id": "fyS2kisXcXse",
    "outputId": "3429db86-3ab3-4ca1-82b0-7612a193ff41"
   },
   "outputs": [
    {
     "name": "stdout",
     "output_type": "stream",
     "text": [
      "e:\\UI\\0\\_kalbe\\nbr-time_aware_item_weighting\n"
     ]
    }
   ],
   "source": [
    "%cd nbr-time_aware_item_weighting/"
   ]
  },
  {
   "cell_type": "code",
   "execution_count": 5,
   "metadata": {
    "colab": {
     "base_uri": "https://localhost:8080/",
     "height": 1000
    },
    "id": "WMu-Lt6ndw0N",
    "outputId": "a1f69635-7aa3-4076-b32f-c4ba5e805581"
   },
   "outputs": [],
   "source": [
    "# !pip install -r requirements.txt"
   ]
  },
  {
   "cell_type": "code",
   "execution_count": 1,
   "metadata": {
    "id": "8K05RukocbKc"
   },
   "outputs": [
    {
     "name": "stderr",
     "output_type": "stream",
     "text": [
      "/home/adhi/nbr-time_aware_item_weighting/.env-nbr/lib/python3.10/site-packages/tqdm/auto.py:21: TqdmWarning: IProgress not found. Please update jupyter and ipywidgets. See https://ipywidgets.readthedocs.io/en/stable/user_install.html\n",
      "  from .autonotebook import tqdm as notebook_tqdm\n"
     ]
    }
   ],
   "source": [
    "import os\n",
    "import sys\n",
    "sys.path.append(\"..\")\n",
    "from nbr.preparation import Preprocess, save_split, Corpus\n",
    "from nbr.trainer import NBRTrainer\n",
    "from nbr.model import BPR, SLRC, NBRKNN, RepurchaseModule\n",
    "import torch\n",
    "import random\n",
    "import numpy as np\n",
    "import optuna\n",
    "import warnings\n",
    "warnings.filterwarnings(\"ignore\")"
   ]
  },
  {
   "cell_type": "code",
   "execution_count": 3,
   "metadata": {
    "id": "o23otV-YduBD"
   },
   "outputs": [],
   "source": [
    "seed = 10\n",
    "torch.manual_seed(seed)\n",
    "random.seed(seed)\n",
    "np.random.seed(seed)"
   ]
  },
  {
   "cell_type": "code",
   "execution_count": 5,
   "metadata": {
    "colab": {
     "base_uri": "https://localhost:8080/"
    },
    "id": "qsn3ac8ff67r",
    "outputId": "315d50f7-91df-4a27-8e0f-793276062e4d"
   },
   "outputs": [
    {
     "name": "stdout",
     "output_type": "stream",
     "text": [
      "Before preprocessing: #users = 465, #items = 1477, #clicks = 518655 (#illegal records = 0)\n",
      "After preprocessing: #users = 465, #items = 1477, #clicks = 518655\n",
      "Saving dataset in ..//data_EPM-prep/...\n"
     ]
    }
   ],
   "source": [
    "corpus_path = \"notebooks/data/\"\n",
    "dataset_name = \"ta_feng\"\n",
    "\n",
    "corpus_path = \"data/\"\n",
    "dataset_name = \"EPM-prep\"\n",
    "\n",
    "preprocessor = Preprocess(corpus_path, dataset_name)\n",
    "preprocessor.load_data(0, 0, filt=False)\n",
    "# preprocessor.load_data(5, 10, filt=True)\n",
    "save_split(corpus_path, dataset_name, preprocessor)"
   ]
  },
  {
   "cell_type": "code",
   "execution_count": 5,
   "metadata": {
    "id": "XNU0wIs1f_9L"
   },
   "outputs": [],
   "source": [
    "corpus = Corpus(corpus_path, dataset_name)\n",
    "corpus.load_data()"
   ]
  },
  {
   "cell_type": "code",
   "execution_count": 21,
   "metadata": {
    "colab": {
     "base_uri": "https://localhost:8080/"
    },
    "id": "TaOqNeYu1f2M",
    "outputId": "c039db76-0157-47fb-b48f-798f986c5d90"
   },
   "outputs": [
    {
     "name": "stdout",
     "output_type": "stream",
     "text": [
      "train dataset preparing...\n"
     ]
    },
    {
     "name": "stderr",
     "output_type": "stream",
     "text": [
      "  0%|          | 0/465 [00:00<?, ?it/s]"
     ]
    },
    {
     "name": "stderr",
     "output_type": "stream",
     "text": [
      "100%|██████████| 465/465 [00:00<00:00, 1529.63it/s]\n"
     ]
    },
    {
     "name": "stdout",
     "output_type": "stream",
     "text": [
      "dev dataset preparing...\n"
     ]
    },
    {
     "name": "stderr",
     "output_type": "stream",
     "text": [
      "100%|██████████| 453/453 [00:06<00:00, 67.27it/s] \n"
     ]
    },
    {
     "name": "stdout",
     "output_type": "stream",
     "text": [
      "test dataset preparing...\n"
     ]
    },
    {
     "name": "stderr",
     "output_type": "stream",
     "text": [
      "100%|██████████| 453/453 [00:06<00:00, 74.18it/s] \n"
     ]
    }
   ],
   "source": [
    "trainer = NBRTrainer(\n",
    "    corpus=corpus,\n",
    "    max_epochs=3,\n",
    "    topk=10,\n",
    "    early_stop_num=3\n",
    ")"
   ]
  },
  {
   "cell_type": "code",
   "execution_count": 22,
   "metadata": {
    "id": "VAZ2FcEN10f4"
   },
   "outputs": [],
   "source": [
    "slrc_best_params = {'batch_size': 256, 'lr': 0.00011201144001505824, 'l2_reg_coef': 0.00011498224071460201}\n",
    "\n",
    "params = {\n",
    "    \"model\": RepurchaseModule(\n",
    "        item_num=corpus.n_items,\n",
    "        avg_repeat_interval=corpus.total_avg_interval\n",
    "    ),\n",
    "    \"batch_size\": slrc_best_params[\"batch_size\"],\n",
    "    \"lr\": slrc_best_params[\"lr\"],\n",
    "    \"l2_reg_coef\": slrc_best_params[\"l2_reg_coef\"]\n",
    "}\n",
    "\n",
    "trainer.init_hyperparams(**params)"
   ]
  },
  {
   "cell_type": "code",
   "execution_count": 23,
   "metadata": {
    "colab": {
     "base_uri": "https://localhost:8080/"
    },
    "id": "v5G4Q44516FM",
    "outputId": "3b730971-3ebe-49d1-bbee-bd2ff8267f14"
   },
   "outputs": [
    {
     "name": "stdout",
     "output_type": "stream",
     "text": [
      "Epoch 1:\n"
     ]
    },
    {
     "name": "stderr",
     "output_type": "stream",
     "text": [
      "Batch loss = 0.488238: 100%|██████████| 2009/2009 [01:28<00:00, 22.68it/s]"
     ]
    },
    {
     "name": "stdout",
     "output_type": "stream",
     "text": [
      "\n",
      "Evaluation (dev):\n"
     ]
    },
    {
     "name": "stderr",
     "output_type": "stream",
     "text": [
      "\n",
      "100%|██████████| 453/453 [00:10<00:00, 44.67it/s]"
     ]
    },
    {
     "name": "stdout",
     "output_type": "stream",
     "text": [
      "\n",
      " {'precision': 0.11655629139072848, 'recall': 0.3372051101577959, 'ndcg': 0.2539155788957893}\n",
      "Epoch 2:\n"
     ]
    },
    {
     "name": "stderr",
     "output_type": "stream",
     "text": [
      "\n",
      "Batch loss = 0.484913: 100%|██████████| 2009/2009 [01:38<00:00, 20.31it/s]"
     ]
    },
    {
     "name": "stdout",
     "output_type": "stream",
     "text": [
      "\n",
      "Evaluation (dev):\n"
     ]
    },
    {
     "name": "stderr",
     "output_type": "stream",
     "text": [
      "\n",
      "100%|██████████| 453/453 [00:12<00:00, 36.94it/s]"
     ]
    },
    {
     "name": "stdout",
     "output_type": "stream",
     "text": [
      "\n",
      " {'precision': 0.11677704194260487, 'recall': 0.33657439429529196, 'ndcg': 0.2540354689479996}\n",
      "Epoch 3:\n"
     ]
    },
    {
     "name": "stderr",
     "output_type": "stream",
     "text": [
      "\n",
      "Batch loss = 0.482116: 100%|██████████| 2009/2009 [01:34<00:00, 21.37it/s]"
     ]
    },
    {
     "name": "stdout",
     "output_type": "stream",
     "text": [
      "\n",
      "Evaluation (dev):\n"
     ]
    },
    {
     "name": "stderr",
     "output_type": "stream",
     "text": [
      "\n",
      "100%|██████████| 453/453 [00:10<00:00, 41.99it/s]"
     ]
    },
    {
     "name": "stdout",
     "output_type": "stream",
     "text": [
      "\n",
      " {'precision': 0.11677704194260487, 'recall': 0.3365376025366459, 'ndcg': 0.25207541161026886}\n"
     ]
    },
    {
     "name": "stderr",
     "output_type": "stream",
     "text": [
      "\n"
     ]
    },
    {
     "data": {
      "text/plain": [
       "RepurchaseModule()"
      ]
     },
     "execution_count": 23,
     "metadata": {},
     "output_type": "execute_result"
    }
   ],
   "source": [
    "trainer.train()"
   ]
  },
  {
   "cell_type": "code",
   "execution_count": 24,
   "metadata": {
    "colab": {
     "base_uri": "https://localhost:8080/"
    },
    "id": "L-j4zkn13GnK",
    "outputId": "a4d17f9a-1f71-4ddf-f90c-32ed1abf0076"
   },
   "outputs": [
    {
     "name": "stderr",
     "output_type": "stream",
     "text": [
      "100%|██████████| 453/453 [00:08<00:00, 51.72it/s] \n"
     ]
    }
   ],
   "source": [
    "dev_user_emb = trainer.get_predictions(mode=\"dev\")"
   ]
  },
  {
   "cell_type": "code",
   "execution_count": 25,
   "metadata": {
    "colab": {
     "base_uri": "https://localhost:8080/"
    },
    "id": "HxqSK5Gd3NII",
    "outputId": "721696bb-acc6-4ad2-92c6-fa2f7f9980d3"
   },
   "outputs": [
    {
     "name": "stdout",
     "output_type": "stream",
     "text": [
      "train dataset preparing...\n"
     ]
    },
    {
     "name": "stderr",
     "output_type": "stream",
     "text": [
      "100%|██████████| 465/465 [00:00<00:00, 1226.94it/s]\n"
     ]
    },
    {
     "name": "stdout",
     "output_type": "stream",
     "text": [
      "dev dataset preparing...\n"
     ]
    },
    {
     "name": "stderr",
     "output_type": "stream",
     "text": [
      "100%|██████████| 453/453 [00:04<00:00, 100.86it/s]\n"
     ]
    },
    {
     "name": "stdout",
     "output_type": "stream",
     "text": [
      "test dataset preparing...\n"
     ]
    },
    {
     "name": "stderr",
     "output_type": "stream",
     "text": [
      "100%|██████████| 453/453 [00:04<00:00, 98.74it/s] \n"
     ]
    }
   ],
   "source": [
    "trainer = NBRTrainer(\n",
    "    corpus=corpus,\n",
    "    max_epochs=None,\n",
    "    topk=10,\n",
    "    early_stop_num=None\n",
    ")"
   ]
  },
  {
   "cell_type": "code",
   "execution_count": 26,
   "metadata": {
    "colab": {
     "base_uri": "https://localhost:8080/"
    },
    "id": "g3WfX9zWNziW",
    "outputId": "0f3f4810-1408-4766-c47d-efbdaea6f1c6"
   },
   "outputs": [
    {
     "name": "stderr",
     "output_type": "stream",
     "text": [
      "\u001b[32m[I 2023-10-31 09:08:51,019]\u001b[0m A new study created in memory with name: no-name-69a01b52-a0f4-4cfe-b918-431318a56388\u001b[0m\n",
      "  0%|          | 0/453 [00:00<?, ?it/s]"
     ]
    },
    {
     "name": "stderr",
     "output_type": "stream",
     "text": [
      "100%|██████████| 453/453 [00:03<00:00, 137.46it/s]\n",
      "\u001b[32m[I 2023-10-31 09:08:54,454]\u001b[0m Trial 0 finished with value: 0.23770489391879496 and parameters: {'nearest_neighbors_num': 110, 'alpha': 0.75}. Best is trial 0 with value: 0.23770489391879496.\u001b[0m\n",
      "100%|██████████| 453/453 [00:04<00:00, 111.63it/s]\n",
      "\u001b[32m[I 2023-10-31 09:08:58,613]\u001b[0m Trial 1 finished with value: 0.21050125387768526 and parameters: {'nearest_neighbors_num': 121, 'alpha': 0.55}. Best is trial 0 with value: 0.23770489391879496.\u001b[0m\n",
      "100%|██████████| 453/453 [00:03<00:00, 122.25it/s]\n",
      "\u001b[32m[I 2023-10-31 09:09:02,399]\u001b[0m Trial 2 finished with value: 0.22335214421666635 and parameters: {'nearest_neighbors_num': 85, 'alpha': 0.65}. Best is trial 0 with value: 0.23770489391879496.\u001b[0m\n",
      "100%|██████████| 453/453 [00:02<00:00, 158.84it/s]\n",
      "\u001b[32m[I 2023-10-31 09:09:05,330]\u001b[0m Trial 3 finished with value: 0.25083966982148903 and parameters: {'nearest_neighbors_num': 88, 'alpha': 0.9}. Best is trial 3 with value: 0.25083966982148903.\u001b[0m\n",
      "100%|██████████| 453/453 [00:05<00:00, 87.13it/s] \n",
      "\u001b[32m[I 2023-10-31 09:09:10,590]\u001b[0m Trial 4 finished with value: 0.1776846043131144 and parameters: {'nearest_neighbors_num': 193, 'alpha': 0.4}. Best is trial 3 with value: 0.25083966982148903.\u001b[0m\n"
     ]
    }
   ],
   "source": [
    "def objective(trial):\n",
    "    params = {\n",
    "        \"model\": NBRKNN(\n",
    "            item_num=corpus.n_items,\n",
    "            user_num=corpus.n_users,\n",
    "            nearest_neighbors_num=trial.suggest_int(\"nearest_neighbors_num\", low=1, high=200),\n",
    "            alpha=trial.suggest_float(\"alpha\", 0.0, 1.0, step=0.05),\n",
    "            user_emb=dev_user_emb\n",
    "        )\n",
    "    }\n",
    "\n",
    "    trainer.init_hyperparams(**params)\n",
    "    metrics = trainer.evaluate(mode=\"dev\")\n",
    "    score = metrics[\"ndcg\"]\n",
    "    return score\n",
    "\n",
    "sampler = optuna.samplers.TPESampler(seed=seed)\n",
    "study = optuna.create_study(direction=\"maximize\", sampler=sampler)\n",
    "study.optimize(objective, n_trials=5)"
   ]
  },
  {
   "cell_type": "code",
   "execution_count": 27,
   "metadata": {},
   "outputs": [],
   "source": [
    "test_metrics = {\n",
    "    \"precision\": [],\n",
    "    \"recall\": [],\n",
    "    \"ndcg\": []\n",
    "}"
   ]
  },
  {
   "cell_type": "code",
   "execution_count": 28,
   "metadata": {},
   "outputs": [
    {
     "name": "stdout",
     "output_type": "stream",
     "text": [
      "train dataset preparing...\n"
     ]
    },
    {
     "name": "stderr",
     "output_type": "stream",
     "text": [
      "100%|██████████| 465/465 [00:00<00:00, 1462.28it/s]\n"
     ]
    },
    {
     "name": "stdout",
     "output_type": "stream",
     "text": [
      "dev dataset preparing...\n"
     ]
    },
    {
     "name": "stderr",
     "output_type": "stream",
     "text": [
      "100%|██████████| 453/453 [00:06<00:00, 70.84it/s] \n"
     ]
    },
    {
     "name": "stdout",
     "output_type": "stream",
     "text": [
      "test dataset preparing...\n"
     ]
    },
    {
     "name": "stderr",
     "output_type": "stream",
     "text": [
      "100%|██████████| 453/453 [00:06<00:00, 70.45it/s] \n"
     ]
    },
    {
     "name": "stdout",
     "output_type": "stream",
     "text": [
      "Epoch 1:\n"
     ]
    },
    {
     "name": "stderr",
     "output_type": "stream",
     "text": [
      "Batch loss = 0.488388: 100%|██████████| 2009/2009 [01:40<00:00, 19.93it/s]"
     ]
    },
    {
     "name": "stdout",
     "output_type": "stream",
     "text": [
      "\n",
      "Evaluation (dev):\n"
     ]
    },
    {
     "name": "stderr",
     "output_type": "stream",
     "text": [
      "\n",
      "100%|██████████| 453/453 [00:12<00:00, 35.51it/s]"
     ]
    },
    {
     "name": "stdout",
     "output_type": "stream",
     "text": [
      "\n",
      " {'precision': 0.11655629139072848, 'recall': 0.33702115136456556, 'ndcg': 0.2537408722099191}\n",
      "Epoch 2:\n"
     ]
    },
    {
     "name": "stderr",
     "output_type": "stream",
     "text": [
      "\n",
      "Batch loss = 0.48506: 100%|██████████| 2009/2009 [01:57<00:00, 17.06it/s] "
     ]
    },
    {
     "name": "stdout",
     "output_type": "stream",
     "text": [
      "\n",
      "Evaluation (dev):\n"
     ]
    },
    {
     "name": "stderr",
     "output_type": "stream",
     "text": [
      "\n",
      "100%|██████████| 453/453 [00:12<00:00, 36.45it/s]"
     ]
    },
    {
     "name": "stdout",
     "output_type": "stream",
     "text": [
      "\n",
      " {'precision': 0.11655629139072848, 'recall': 0.33598572615695493, 'ndcg': 0.2531970097143256}\n",
      "Epoch 3:\n"
     ]
    },
    {
     "name": "stderr",
     "output_type": "stream",
     "text": [
      "\n",
      "Batch loss = 0.482261: 100%|██████████| 2009/2009 [01:48<00:00, 18.49it/s]"
     ]
    },
    {
     "name": "stdout",
     "output_type": "stream",
     "text": [
      "\n",
      "Evaluation (dev):\n"
     ]
    },
    {
     "name": "stderr",
     "output_type": "stream",
     "text": [
      "\n",
      "100%|██████████| 453/453 [00:10<00:00, 44.68it/s]"
     ]
    },
    {
     "name": "stdout",
     "output_type": "stream",
     "text": [
      "\n",
      " {'precision': 0.1163355408388521, 'recall': 0.3337782206381912, 'ndcg': 0.2516383156279611}\n"
     ]
    },
    {
     "name": "stderr",
     "output_type": "stream",
     "text": [
      "\n",
      "100%|██████████| 453/453 [00:10<00:00, 43.74it/s]\n",
      "100%|██████████| 453/453 [00:12<00:00, 36.43it/s] \n"
     ]
    },
    {
     "name": "stdout",
     "output_type": "stream",
     "text": [
      "train dataset preparing...\n"
     ]
    },
    {
     "name": "stderr",
     "output_type": "stream",
     "text": [
      "100%|██████████| 465/465 [00:00<00:00, 2313.49it/s]\n"
     ]
    },
    {
     "name": "stdout",
     "output_type": "stream",
     "text": [
      "dev dataset preparing...\n"
     ]
    },
    {
     "name": "stderr",
     "output_type": "stream",
     "text": [
      "100%|██████████| 453/453 [00:04<00:00, 91.20it/s] \n"
     ]
    },
    {
     "name": "stdout",
     "output_type": "stream",
     "text": [
      "test dataset preparing...\n"
     ]
    },
    {
     "name": "stderr",
     "output_type": "stream",
     "text": [
      "100%|██████████| 453/453 [00:04<00:00, 90.87it/s] \n",
      "100%|██████████| 453/453 [00:02<00:00, 157.89it/s]\n"
     ]
    }
   ],
   "source": [
    "seed = 0\n",
    "torch.manual_seed(seed)\n",
    "random.seed(seed)\n",
    "np.random.seed(seed)\n",
    "\n",
    "trainer = NBRTrainer(\n",
    "    corpus=corpus,\n",
    "    max_epochs=3,\n",
    "    topk=10,\n",
    "    early_stop_num=3\n",
    ")\n",
    "\n",
    "params = {\n",
    "    \"model\": RepurchaseModule(\n",
    "        item_num=corpus.n_items,\n",
    "        avg_repeat_interval=corpus.total_avg_interval\n",
    "    ),\n",
    "    \"batch_size\": slrc_best_params[\"batch_size\"],\n",
    "    \"lr\": slrc_best_params[\"lr\"],\n",
    "    \"l2_reg_coef\": slrc_best_params[\"l2_reg_coef\"]\n",
    "}\n",
    "\n",
    "trainer.init_hyperparams(**params)\n",
    "trainer.train()\n",
    "\n",
    "dev_user_emb = trainer.get_predictions(mode=\"dev\")\n",
    "test_user_emb = trainer.get_predictions(mode=\"test\")\n",
    "\n",
    "trainer = NBRTrainer(\n",
    "    corpus=corpus,\n",
    "    max_epochs=None,\n",
    "    topk=10,\n",
    "    early_stop_num=None\n",
    ")\n",
    "\n",
    "params = {\n",
    "    \"model\": NBRKNN(\n",
    "        item_num=corpus.n_items,\n",
    "        user_num=corpus.n_users,\n",
    "        nearest_neighbors_num=study.best_params[\"nearest_neighbors_num\"],\n",
    "        alpha=study.best_params[\"alpha\"],\n",
    "        user_emb=dev_user_emb\n",
    "    )\n",
    "}\n",
    "params[\"model\"].set_emb(test_user_emb)\n",
    "\n",
    "trainer.init_hyperparams(**params)\n",
    "\n",
    "metrics = trainer.evaluate(mode=\"test\")\n",
    "\n",
    "test_metrics[\"precision\"].append(metrics[\"precision\"])\n",
    "test_metrics[\"recall\"].append(metrics[\"recall\"])\n",
    "test_metrics[\"ndcg\"].append(metrics[\"ndcg\"])"
   ]
  },
  {
   "cell_type": "code",
   "execution_count": 29,
   "metadata": {},
   "outputs": [
    {
     "data": {
      "text/plain": [
       "{'precision': [0.11479028697571744],\n",
       " 'recall': [0.36210864303198126],\n",
       " 'ndcg': [0.2735911520620894]}"
      ]
     },
     "execution_count": 29,
     "metadata": {},
     "output_type": "execute_result"
    }
   ],
   "source": [
    "test_metrics"
   ]
  },
  {
   "cell_type": "code",
   "execution_count": 3,
   "metadata": {},
   "outputs": [],
   "source": [
    "import pandas as pd\n",
    "\n",
    "data = pd.read_csv('data/EPM.csv')"
   ]
  },
  {
   "cell_type": "code",
   "execution_count": 67,
   "metadata": {},
   "outputs": [],
   "source": [
    "def inference(user, topk):\n",
    "    n_items = corpus.n_items\n",
    "\n",
    "    items_scores = trainer.model.predict_for_user(user).view(-1, n_items)\n",
    "    top_items = torch.topk(items_scores, k=topk, dim=1, sorted=True).indices\n",
    "    top_score = [float(i) for i in items_scores[0]]\n",
    "\n",
    "    print(\"Item  | Score\")\n",
    "    print('-------------')\n",
    "    for i in top_items[0]:\n",
    "        print(\"{:5} | {:<5}\".format(sorted(data['item_code'].unique())[int(i)], round(top_score[i], 3)))"
   ]
  },
  {
   "cell_type": "code",
   "execution_count": 73,
   "metadata": {},
   "outputs": [
    {
     "data": {
      "text/plain": [
       "'JK1-AP. DEVITA_GROUP_NA'"
      ]
     },
     "execution_count": 73,
     "metadata": {},
     "output_type": "execute_result"
    }
   ],
   "source": [
    "# check id of customer\n",
    "sorted(data['customer_name'].unique())[114]"
   ]
  },
  {
   "cell_type": "code",
   "execution_count": 74,
   "metadata": {},
   "outputs": [
    {
     "name": "stdout",
     "output_type": "stream",
     "text": [
      "Item  | Score\n",
      "-------------\n",
      "DVCOA | 4.115\n",
      "CPL50 | 2.747\n",
      "CKCOA | 2.215\n",
      "CRTDS | 2.005\n",
      "10224 | 1.977\n"
     ]
    }
   ],
   "source": [
    "customer_id = 114\n",
    "top_k = 5\n",
    "\n",
    "inference(customer_id, top_k)"
   ]
  },
  {
   "cell_type": "code",
   "execution_count": 46,
   "metadata": {},
   "outputs": [],
   "source": []
  },
  {
   "cell_type": "code",
   "execution_count": 49,
   "metadata": {},
   "outputs": [
    {
     "data": {
      "text/plain": [
       "'10223'"
      ]
     },
     "execution_count": 49,
     "metadata": {},
     "output_type": "execute_result"
    }
   ],
   "source": []
  }
 ],
 "metadata": {
  "colab": {
   "provenance": []
  },
  "kernelspec": {
   "display_name": "Python 3 (ipykernel)",
   "language": "python",
   "name": "python3"
  },
  "language_info": {
   "codemirror_mode": {
    "name": "ipython",
    "version": 3
   },
   "file_extension": ".py",
   "mimetype": "text/x-python",
   "name": "python",
   "nbconvert_exporter": "python",
   "pygments_lexer": "ipython3",
   "version": "3.10.6"
  }
 },
 "nbformat": 4,
 "nbformat_minor": 4
}
